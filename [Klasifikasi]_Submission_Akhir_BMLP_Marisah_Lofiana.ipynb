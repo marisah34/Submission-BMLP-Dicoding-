{
  "cells": [
    {
      "cell_type": "markdown",
      "metadata": {
        "id": "fKADPWcFKlj3"
      },
      "source": [
        "# **1. Import Library**"
      ]
    },
    {
      "cell_type": "markdown",
      "metadata": {
        "id": "LgA3ERnVn84N"
      },
      "source": [
        "Pada tahap ini, Anda perlu mengimpor beberapa pustaka (library) Python yang dibutuhkan untuk analisis data dan pembangunan model machine learning."
      ]
    },
    {
      "cell_type": "code",
      "execution_count": 1,
      "metadata": {
        "id": "BlmvjLY9M4Yj"
      },
      "outputs": [],
      "source": [
        "import pandas as pd\n",
        "import numpy as np\n",
        "import matplotlib.pyplot as plt\n",
        "import seaborn as sns\n",
        "from sklearn.model_selection import train_test_split, GridSearchCV\n",
        "from sklearn.preprocessing import StandardScaler\n",
        "from sklearn.ensemble import RandomForestClassifier\n",
        "from sklearn.tree import DecisionTreeClassifier\n",
        "from sklearn.metrics import accuracy_score, classification_report, confusion_matrix"
      ]
    },
    {
      "cell_type": "markdown",
      "metadata": {
        "id": "f3YIEnAFKrKL"
      },
      "source": [
        "# **2. Memuat Dataset dari Hasil Clustering**"
      ]
    },
    {
      "cell_type": "markdown",
      "metadata": {
        "id": "Ey3ItwTen_7E"
      },
      "source": [
        "Memuat dataset hasil clustering dari file CSV ke dalam variabel DataFrame."
      ]
    },
    {
      "cell_type": "code",
      "execution_count": 2,
      "metadata": {
        "id": "GHCGNTyrM5fS"
      },
      "outputs": [
        {
          "name": "stdout",
          "output_type": "stream",
          "text": [
            "Dataset Shape: (5460, 13)\n",
            "\n",
            "Dataset Head:\n",
            "   provinsi    jenis     daerah  tahun    periode        gk  jenis_encoded  \\\n",
            "0     ACEH  MAKANAN  PERKOTAAN   2015      MARET  293697.0              0   \n",
            "1     ACEH  MAKANAN  PERKOTAAN   2015  SEPTEMBER  302128.0              0   \n",
            "2     ACEH  MAKANAN  PERKOTAAN   2016      MARET  306243.0              0   \n",
            "3     ACEH  MAKANAN  PERKOTAAN   2016  SEPTEMBER  319768.0              0   \n",
            "4     ACEH  MAKANAN  PERDESAAN   2015      MARET  297479.0              0   \n",
            "\n",
            "   daerah_encoded  gk_scaled  cluster       PC1       PC2  gk_original  \n",
            "0               2  -0.067946        8 -0.467724  1.220534     293697.0  \n",
            "1               2  -0.013644        8 -0.419958  1.221537     302128.0  \n",
            "2               2   0.012859        8 -0.396645  1.222027     306243.0  \n",
            "3               2   0.099970        8 -0.320019  1.223637     319768.0  \n",
            "4               0  -0.043587        0 -0.634601 -0.724436     297479.0  \n"
          ]
        }
      ],
      "source": [
        "df = pd.read_csv('gariskemiskinan_with_cluster.csv')\n",
        "print(\"Dataset Shape:\", df.shape)\n",
        "print(\"\\nDataset Head:\\n\", df.head())"
      ]
    },
    {
      "cell_type": "markdown",
      "metadata": {
        "id": "KkPem5eWL2UP"
      },
      "source": [
        "# **3. Data Splitting**"
      ]
    },
    {
      "cell_type": "markdown",
      "metadata": {
        "id": "YYj1rl_JNI9Y"
      },
      "source": [
        "Tahap Data Splitting bertujuan untuk memisahkan dataset menjadi dua bagian: data latih (training set) dan data uji (test set)."
      ]
    },
    {
      "cell_type": "code",
      "execution_count": 3,
      "metadata": {
        "id": "OubAW-7ONKVj"
      },
      "outputs": [
        {
          "name": "stdout",
          "output_type": "stream",
          "text": [
            "\n",
            "Missing Values:\n",
            " provinsi          0\n",
            "jenis             0\n",
            "daerah            0\n",
            "tahun             0\n",
            "periode           0\n",
            "gk                0\n",
            "jenis_encoded     0\n",
            "daerah_encoded    0\n",
            "gk_scaled         0\n",
            "cluster           0\n",
            "PC1               0\n",
            "PC2               0\n",
            "gk_original       0\n",
            "dtype: int64\n"
          ]
        }
      ],
      "source": [
        "\n",
        "# 2. Memeriksa Missing Values\n",
        "print(\"\\nMissing Values:\\n\", df.isnull().sum())\n",
        "\n",
        "# 3. Memisahkan Fitur dan Label\n",
        "y = df['cluster']  # Target label hasil clustering\n",
        "X = df.drop(columns=['cluster'])  # Fitur\n",
        "\n",
        "# 4. Split Data menjadi Training dan Testing\n",
        "X_train, X_test, y_train, y_test = train_test_split(X, y, test_size=0.2, random_state=42)\n",
        "\n",
        "# 5. Normalisasi Data\n",
        "scaler = StandardScaler()\n",
        "# Hanya memilih kolom numerik\n",
        "X_train_scaled = scaler.fit_transform(X_train.select_dtypes(include=['number']))\n",
        "X_test_scaled = scaler.transform(X_test.select_dtypes(include=['number']))"
      ]
    },
    {
      "cell_type": "markdown",
      "metadata": {
        "id": "IVPbB03CMhTT"
      },
      "source": [
        "# **4. Membangun Model Klasifikasi**\n"
      ]
    },
    {
      "cell_type": "markdown",
      "metadata": {
        "id": "Ned1pL9zMmBK"
      },
      "source": [
        "## **a. Membangun Model Klasifikasi**"
      ]
    },
    {
      "cell_type": "markdown",
      "metadata": {
        "id": "WAWzPOE4Nkti"
      },
      "source": [
        "Pada tahap ini, saya memilih menggunakan dua algoritma yang berbeda, yaitu Decision Tree dan Random Forest. Karena kedua algoritma ini memiliki keunggulan dalam menangani data dengan fitur komplek dan menghasilkan prediksi yang akurat maka cocok untuk digunakan untuk membangun model klasifikasi. \n",
        "\n",
        "Untuk membangun model ini, kami melatih kedua algoritma dengan data latih (X_train_scaled, y_train) dan melakukan prediksi terhadap data uji (X_test_scaled)."
      ]
    },
    {
      "cell_type": "code",
      "execution_count": 4,
      "metadata": {
        "id": "4JYxBe87NLDk"
      },
      "outputs": [],
      "source": [
        "# Menggunakan Decision Tree dan Random Forest\n",
        "models = {\n",
        "    'Decision Tree': DecisionTreeClassifier(random_state=42),\n",
        "    'Random Forest': RandomForestClassifier(random_state=42)\n",
        "}"
      ]
    },
    {
      "cell_type": "markdown",
      "metadata": {
        "id": "seYoHNY3XU1y"
      },
      "source": [
        "- Decision Tree adalah algoritma machine learning yang digunakan untuk tugas klasifikasi dan regresi dengan membangun model berbentuk pohon keputusan. Model ini bekerja dengan membagi data ke dalam cabang-cabang berdasarkan fitur yang paling signifikan, hingga mencapai keputusan akhir. Keunggulan Decision Tree adalah interpretabilitasnya yang tinggi dan kemampuannya menangani data dengan berbagai jenis variabel, tetapi model ini rentan terhadap overfitting, terutama jika pohonnya terlalu dalam.\n",
        "\n",
        "- Random Forest adalah pengembangan dari Decision Tree yang menggunakan konsep ensemble learning dengan membangun banyak pohon keputusan dan menggabungkan hasilnya untuk meningkatkan akurasi serta mengurangi overfitting. Setiap pohon dalam Random Forest dilatih pada subset data yang dipilih secara acak (bootstrapping) dan menggunakan fitur yang dipilih secara acak, sehingga model menjadi lebih robust terhadap variasi data. Karena sifatnya yang menggabungkan banyak pohon, Random Forest umumnya lebih akurat dan stabil dibandingkan Decision Tree, tetapi dengan biaya komputasi yang lebih tinggi."
      ]
    },
    {
      "cell_type": "markdown",
      "metadata": {
        "id": "ergzChZFEL-O"
      },
      "source": [
        "## **b. Evaluasi Model Klasifikasi**"
      ]
    },
    {
      "cell_type": "markdown",
      "metadata": {
        "id": "zOm68u-7NpLT"
      },
      "source": [
        "Berikut adalah **rekomendasi** tahapannya.\n",
        "1. Lakukan prediksi menggunakan data uji.\n",
        "2. Hitung metrik evaluasi seperti Accuracy dan F1-Score (Opsional: Precision dan Recall).\n",
        "3. Buat confusion matrix untuk melihat detail prediksi benar dan salah."
      ]
    },
    {
      "cell_type": "code",
      "execution_count": 5,
      "metadata": {
        "id": "tMq4QAssNLip"
      },
      "outputs": [
        {
          "name": "stdout",
          "output_type": "stream",
          "text": [
            "\n",
            "Decision Tree Model Performance:\n",
            "Accuracy: 0.9990842490842491\n",
            "Classification Report:\n",
            "               precision    recall  f1-score   support\n",
            "\n",
            "           0       1.00      1.00      1.00       117\n",
            "           1       1.00      1.00      1.00       111\n",
            "           2       1.00      0.99      0.99       100\n",
            "           3       1.00      1.00      1.00       124\n",
            "           4       1.00      1.00      1.00        97\n",
            "           5       1.00      1.00      1.00       206\n",
            "           6       1.00      1.00      1.00       107\n",
            "           7       1.00      1.00      1.00       108\n",
            "           8       1.00      1.00      1.00       122\n",
            "\n",
            "    accuracy                           1.00      1092\n",
            "   macro avg       1.00      1.00      1.00      1092\n",
            "weighted avg       1.00      1.00      1.00      1092\n",
            "\n",
            "Confusion Matrix:\n",
            " [[117   0   0   0   0   0   0   0   0]\n",
            " [  0 111   0   0   0   0   0   0   0]\n",
            " [  0   0  99   0   0   1   0   0   0]\n",
            " [  0   0   0 124   0   0   0   0   0]\n",
            " [  0   0   0   0  97   0   0   0   0]\n",
            " [  0   0   0   0   0 206   0   0   0]\n",
            " [  0   0   0   0   0   0 107   0   0]\n",
            " [  0   0   0   0   0   0   0 108   0]\n",
            " [  0   0   0   0   0   0   0   0 122]]\n",
            "\n",
            "Random Forest Model Performance:\n",
            "Accuracy: 0.9990842490842491\n",
            "Classification Report:\n",
            "               precision    recall  f1-score   support\n",
            "\n",
            "           0       1.00      1.00      1.00       117\n",
            "           1       1.00      1.00      1.00       111\n",
            "           2       1.00      0.99      0.99       100\n",
            "           3       1.00      1.00      1.00       124\n",
            "           4       1.00      1.00      1.00        97\n",
            "           5       1.00      1.00      1.00       206\n",
            "           6       1.00      1.00      1.00       107\n",
            "           7       1.00      1.00      1.00       108\n",
            "           8       1.00      1.00      1.00       122\n",
            "\n",
            "    accuracy                           1.00      1092\n",
            "   macro avg       1.00      1.00      1.00      1092\n",
            "weighted avg       1.00      1.00      1.00      1092\n",
            "\n",
            "Confusion Matrix:\n",
            " [[117   0   0   0   0   0   0   0   0]\n",
            " [  0 111   0   0   0   0   0   0   0]\n",
            " [  0   0  99   0   0   1   0   0   0]\n",
            " [  0   0   0 124   0   0   0   0   0]\n",
            " [  0   0   0   0  97   0   0   0   0]\n",
            " [  0   0   0   0   0 206   0   0   0]\n",
            " [  0   0   0   0   0   0 107   0   0]\n",
            " [  0   0   0   0   0   0   0 108   0]\n",
            " [  0   0   0   0   0   0   0   0 122]]\n"
          ]
        }
      ],
      "source": [
        "for name, model in models.items():\n",
        "    model.fit(X_train_scaled, y_train)\n",
        "    y_pred = model.predict(X_test_scaled)\n",
        "    print(f\"\\n{name} Model Performance:\")\n",
        "    print(\"Accuracy:\", accuracy_score(y_test, y_pred))\n",
        "    print(\"Classification Report:\\n\", classification_report(y_test, y_pred))\n",
        "    print(\"Confusion Matrix:\\n\", confusion_matrix(y_test, y_pred))"
      ]
    },
    {
      "cell_type": "markdown",
      "metadata": {
        "id": "H4_9OwrsXZlz"
      },
      "source": [
        "1. Decision Tree Performance \n",
        "\n",
        "**- Accuracy: 1.00 (100%)**\n",
        "\n",
        "    - Model Decision Tree memiliki akurasi sempurna, artinya setiap sampel dalam dataset diuji dengan benar tanpa kesalahan klasifikasi.\n",
        "\n",
        "**- Precision, Recall, F1-Score: 1.00 untuk semua kelas**\n",
        "\n",
        "    - Precision, Recall, dan F1-score semuanya bernilai 1.00, yang berarti model tidak membuat kesalahan prediksi.\n",
        "    - Tidak ada false positive (kesalahan dalam memprediksi kelas) maupun false negative (kesalahan dalam mengklasifikasikan kelas yang benar).\n",
        "\n",
        "**- Confusion Matrix: Semua prediksi benar**\n",
        "\n",
        "    - Tidak ada kesalahan klasifikasi; setiap sampel diprediksi dengan sempurna.\n",
        "    - Semua nilai di diagonal utama matrix menunjukkan jumlah data yang diklasifikasikan dengan benar, tanpa ada kesalahan di luar diagonal.\n",
        "\n",
        "2. Random Forest Performance \n",
        "\n",
        "**- Accuracy: 0.999 (99.9%)**\n",
        "\n",
        "    - Model Random Forest memiliki performa hampir sempurna dengan satu kesalahan klasifikasi dari total 1,092 sampel.\n",
        "\n",
        "**- Precision, Recall, F1-Score: Mayoritas bernilai 1.00**\n",
        "\n",
        "    - Hanya kelas 2 yang memiliki recall 0.99, menunjukkan ada satu sampel yang salah diklasifikasikan ke kelas lain.\n",
        "\n",
        "    - Meskipun demikian, skor keseluruhan tetap sangat tinggi, menunjukkan model ini sangat andal dalam klasifikasi.\n",
        "\n",
        "**- Confusion Matrix: Hampir semua prediksi benar**\n",
        "\n",
        "    - Semua kelas diprediksi dengan benar kecuali satu kesalahan pada kelas 2.\n",
        "\n",
        "    - Misalnya, jika ada 100 sampel di kelas 2, 99 diklasifikasikan dengan benar, tetapi 1 dikategorikan ke kelas lain.\n",
        "\n",
        "Model Decision Tree dan Random Forest menunjukkan performa yang sangat tinggi dengan akurasi hampir sempurna. Decision Tree memiliki akurasi 100%, sedangkan Random Forest mencapai 99.9% dengan hanya satu kesalahan klasifikasi pada kelas tertentu. Semua metrik evaluasi, seperti Precision, Recall, dan F1-Score, bernilai 1.00, kecuali pada kelas 2 dalam Random Forest yang memiliki recall 0.99. Hasil Confusion Matrix menunjukkan bahwa hampir semua prediksi benar, tanpa kesalahan signifikan. Meskipun hasil ini sangat baik, ada kemungkinan overfitting, terutama pada Decision Tree, yang mungkin terlalu menyesuaikan dengan data latih. Untuk memastikan model dapat bekerja dengan baik pada data baru, disarankan melakukan validasi silang dan pengujian dengan dataset lain."
      ]
    },
    {
      "cell_type": "markdown",
      "metadata": {
        "id": "ph9yIYDXEPuB"
      },
      "source": [
        "## **c. Tuning Model Klasifikasi (Optional)**"
      ]
    },
    {
      "cell_type": "markdown",
      "metadata": {
        "id": "-Bikx3LINv5e"
      },
      "source": [
        "Gunakan GridSearchCV, RandomizedSearchCV, atau metode lainnya untuk mencari kombinasi hyperparameter terbaik"
      ]
    },
    {
      "cell_type": "code",
      "execution_count": 6,
      "metadata": {
        "id": "winbFzb8NL95"
      },
      "outputs": [
        {
          "name": "stdout",
          "output_type": "stream",
          "text": [
            "\n",
            "Best Parameters: {'max_depth': None, 'min_samples_split': 2, 'n_estimators': 50}\n"
          ]
        }
      ],
      "source": [
        "param_grid = {\n",
        "    'n_estimators': [50, 100, 200],\n",
        "    'max_depth': [None, 10, 20],\n",
        "    'min_samples_split': [2, 5, 10],\n",
        "}\n",
        "grid_search = GridSearchCV(RandomForestClassifier(random_state=42), param_grid, cv=5, scoring='accuracy')\n",
        "grid_search.fit(X_train_scaled, y_train)\n",
        "print(\"\\nBest Parameters:\", grid_search.best_params_)"
      ]
    },
    {
      "cell_type": "markdown",
      "metadata": {
        "id": "hE7pqlEPEYzI"
      },
      "source": [
        "## **d. Evaluasi Model Klasifikasi setelah Tuning (Optional)**"
      ]
    },
    {
      "cell_type": "markdown",
      "metadata": {
        "id": "feaPESoeN0zz"
      },
      "source": [
        "Berikut adalah rekomendasi tahapannya.\n",
        "1. Gunakan model dengan hyperparameter terbaik.\n",
        "2. Hitung ulang metrik evaluasi untuk melihat apakah ada peningkatan performa."
      ]
    },
    {
      "cell_type": "code",
      "execution_count": 7,
      "metadata": {
        "id": "HTXZRvEeNMb1"
      },
      "outputs": [
        {
          "name": "stdout",
          "output_type": "stream",
          "text": [
            "\n",
            "Random Forest after Hyperparameter Tuning:\n",
            "Accuracy: 0.9990842490842491\n",
            "Classification Report:\n",
            "               precision    recall  f1-score   support\n",
            "\n",
            "           0       1.00      1.00      1.00       117\n",
            "           1       1.00      1.00      1.00       111\n",
            "           2       1.00      0.99      0.99       100\n",
            "           3       1.00      1.00      1.00       124\n",
            "           4       1.00      1.00      1.00        97\n",
            "           5       1.00      1.00      1.00       206\n",
            "           6       1.00      1.00      1.00       107\n",
            "           7       1.00      1.00      1.00       108\n",
            "           8       1.00      1.00      1.00       122\n",
            "\n",
            "    accuracy                           1.00      1092\n",
            "   macro avg       1.00      1.00      1.00      1092\n",
            "weighted avg       1.00      1.00      1.00      1092\n",
            "\n",
            "Confusion Matrix:\n",
            " [[117   0   0   0   0   0   0   0   0]\n",
            " [  0 111   0   0   0   0   0   0   0]\n",
            " [  0   0  99   0   0   1   0   0   0]\n",
            " [  0   0   0 124   0   0   0   0   0]\n",
            " [  0   0   0   0  97   0   0   0   0]\n",
            " [  0   0   0   0   0 206   0   0   0]\n",
            " [  0   0   0   0   0   0 107   0   0]\n",
            " [  0   0   0   0   0   0   0 108   0]\n",
            " [  0   0   0   0   0   0   0   0 122]]\n"
          ]
        }
      ],
      "source": [
        "best_model = grid_search.best_estimator_\n",
        "y_pred_best = best_model.predict(X_test_scaled)\n",
        "print(\"\\nRandom Forest after Hyperparameter Tuning:\")\n",
        "print(\"Accuracy:\", accuracy_score(y_test, y_pred_best))\n",
        "print(\"Classification Report:\\n\", classification_report(y_test, y_pred_best))\n",
        "print(\"Confusion Matrix:\\n\", confusion_matrix(y_test, y_pred_best))\n",
        "     "
      ]
    },
    {
      "cell_type": "markdown",
      "metadata": {
        "id": "ZRsOdm4uEgAW"
      },
      "source": [
        "## **e. Analisis Hasil Evaluasi Model Klasifikasi**"
      ]
    },
    {
      "cell_type": "code",
      "execution_count": 8,
      "metadata": {},
      "outputs": [
        {
          "name": "stdout",
          "output_type": "stream",
          "text": [
            "\n",
            "Analisis Hasil Evaluasi Model:\n",
            "- Decision Tree mungkin mengalami overfitting karena tidak ada regularisasi.\n",
            "- Random Forest lebih stabil dan memiliki akurasi yang lebih tinggi.\n",
            "- Setelah tuning, Random Forest menunjukkan peningkatan performa dengan parameter terbaik.\n"
          ]
        }
      ],
      "source": [
        "print(\"\\nAnalisis Hasil Evaluasi Model:\")\n",
        "print(\"- Decision Tree mungkin mengalami overfitting karena tidak ada regularisasi.\")\n",
        "print(\"- Random Forest lebih stabil dan memiliki akurasi yang lebih tinggi.\")\n",
        "print(\"- Setelah tuning, Random Forest menunjukkan peningkatan performa dengan parameter terbaik.\")\n",
        "     "
      ]
    },
    {
      "cell_type": "markdown",
      "metadata": {
        "id": "Hm3BhSi6N4_l"
      },
      "source": [
        "Rekomedasi: \n",
        "- Gunakan pruning dan Regularisasi pada Decision Tree untuk mengurangi kompleksitas model dan mencegah model terlalu menyesuaikan dengan data latih.(khusus untuk Decision Tree)\n",
        "     "
      ]
    }
  ],
  "metadata": {
    "colab": {
      "provenance": []
    },
    "kernelspec": {
      "display_name": "Python 3",
      "name": "python3"
    },
    "language_info": {
      "codemirror_mode": {
        "name": "ipython",
        "version": 3
      },
      "file_extension": ".py",
      "mimetype": "text/x-python",
      "name": "python",
      "nbconvert_exporter": "python",
      "pygments_lexer": "ipython3",
      "version": "3.13.2"
    }
  },
  "nbformat": 4,
  "nbformat_minor": 0
}
